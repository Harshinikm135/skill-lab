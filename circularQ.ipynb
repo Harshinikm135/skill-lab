{
 "cells": [
  {
   "cell_type": "markdown",
   "id": "2bb14abc-a30f-41c5-98c1-5dda397c9e67",
   "metadata": {},
   "source": [
    "#circular Queue implemntation with fixed size"
   ]
  },
  {
   "cell_type": "markdown",
   "id": "cf876a73-b44c-4290-a700-fc26292e70c0",
   "metadata": {},
   "source": [
    "1.initialize:\n",
    "-size\n",
    "-Rear pointer\n",
    "-Qeue (list)\n",
    "2.Enqueue:\n",
    "-Queue is full(rear+1 == front)\n",
    "-first element(rear = front = 0),then append\n",
    "-Entering anywhere except at the begining (rear = rear+1%size),then append"
   ]
  },
  {
   "cell_type": "code",
   "execution_count": 17,
   "id": "9755ac54-b279-40e8-b014-e05d6e473ffe",
   "metadata": {},
   "outputs": [],
   "source": [
    "class circularQ:\n",
    "    def __init__(self,size):\n",
    "        self.size = size\n",
    "        self.front = self.rear=-1\n",
    "        self.queue = [None]*size\n",
    "    def enqueue(self,data):\n",
    "        if(self.rear+1)%self.size == self.front:\n",
    "            print(\"Queue is Full\")\n",
    "        elif self.rear ==-1:\n",
    "            self.front = self.rear=0\n",
    "            self.queue[self.rear] = data\n",
    "        else:\n",
    "            self.rear = (self.rear+1)%self.size\n",
    "            self.queue[self.rear]=data\n",
    "    def dequeue(self):\n",
    "        if self.front==-1:\n",
    "            popped = self.queue[self.front]\n",
    "            print(\"Q is empty\")\n",
    "            return\n",
    "        elif self.front==self.rear:\n",
    "            self.front=self.rear=-1\n",
    "            return popped\n",
    "        else:\n",
    "            self.front=(self.front+1)%self.size\n",
    "            return popped\n",
    "    def display(self):\n",
    "        if self.front == -1:\n",
    "            print(\"Queue  is empty\")\n",
    "            return\n",
    "        i=self.front\n",
    "        while True:\n",
    "            print(self.queue[i])\n",
    "            if i == self.rear:\n",
    "                break\n",
    "            i=(i+1)%self.size\n",
    "            \n",
    "        \n",
    "        \n",
    "        \n",
    "            "
   ]
  },
  {
   "cell_type": "code",
   "execution_count": 2,
   "id": "b3ce9ff0-0e24-4ab8-942c-8990bfe0bada",
   "metadata": {},
   "outputs": [],
   "source": [
    "j = circularQ(3)\n",
    "j.enqueue(90)\n",
    "j.enqueue(80)\n",
    "j.enqueue(50)\n"
   ]
  },
  {
   "cell_type": "code",
   "execution_count": 3,
   "id": "8b882109-a9b3-4f5d-b0dc-c520613a2879",
   "metadata": {},
   "outputs": [
    {
     "name": "stdout",
     "output_type": "stream",
     "text": [
      "Queue is Full\n"
     ]
    }
   ],
   "source": [
    "j.enqueue(100)"
   ]
  },
  {
   "cell_type": "code",
   "execution_count": 16,
   "id": "223613db-5871-415a-b998-200b5e30eb1a",
   "metadata": {},
   "outputs": [
    {
     "name": "stdout",
     "output_type": "stream",
     "text": [
      "Q is empty\n",
      "Q is empty\n",
      "Q is empty\n"
     ]
    }
   ],
   "source": [
    "j = circularQ(3)\n",
    "j.dequeue()\n",
    "j.dequeue()\n",
    "j.dequeue()"
   ]
  },
  {
   "cell_type": "code",
   "execution_count": 19,
   "id": "86daa681-a71c-45a7-9b0b-2f7be5a24cea",
   "metadata": {},
   "outputs": [
    {
     "name": "stdout",
     "output_type": "stream",
     "text": [
      "80\n",
      "70\n",
      "90\n"
     ]
    }
   ],
   "source": [
    "k=circularQ(3)\n",
    "k.enqueue(80)\n",
    "k.enqueue(70)\n",
    "k.enqueue(90)\n",
    "k.display()"
   ]
  },
  {
   "cell_type": "code",
   "execution_count": 31,
   "id": "c39dcace-cdc3-4f75-8c9f-3bc88ae27107",
   "metadata": {},
   "outputs": [],
   "source": [
    "def a(m,n):\n",
    "    q=0\n",
    "    p=0\n",
    "    i=1\n",
    "    for i in range(m+1):\n",
    "        if i%n == 0:\n",
    "            p=p+i\n",
    "        else:\n",
    "            q=q+i\n",
    "\n",
    "    c=q-p\n",
    "    print(c)"
   ]
  },
  {
   "cell_type": "code",
   "execution_count": 32,
   "id": "2089993b-1346-4e9b-9e77-854511502a3e",
   "metadata": {},
   "outputs": [
    {
     "name": "stdout",
     "output_type": "stream",
     "text": [
      "90\n"
     ]
    }
   ],
   "source": [
    "a(20,4)"
   ]
  },
  {
   "cell_type": "code",
   "execution_count": 33,
   "id": "c3aa63b9-4c83-4e1f-ba86-d79cefe64461",
   "metadata": {},
   "outputs": [],
   "source": [
    "def checkpassword(char,n):\n",
    "    n = len(char)\n",
    "    if n>4:\n",
    "        return 1\n",
    "    else:\n",
    "        return 0\n",
    "    \n",
    "    \n",
    "        \n",
    "    \n",
    "        \n",
    "    "
   ]
  },
  {
   "cell_type": "code",
   "execution_count": null,
   "id": "123b07df-817e-46f9-96d7-2a53021b0d50",
   "metadata": {},
   "outputs": [],
   "source": []
  },
  {
   "cell_type": "code",
   "execution_count": null,
   "id": "4d6ff7cc-d970-4485-aa83-57a5cb538630",
   "metadata": {},
   "outputs": [],
   "source": []
  },
  {
   "cell_type": "code",
   "execution_count": null,
   "id": "a01f40c9-9d5c-495f-af2b-bd6c7b78293f",
   "metadata": {},
   "outputs": [],
   "source": []
  }
 ],
 "metadata": {
  "kernelspec": {
   "display_name": "Python 3 (ipykernel)",
   "language": "python",
   "name": "python3"
  },
  "language_info": {
   "codemirror_mode": {
    "name": "ipython",
    "version": 3
   },
   "file_extension": ".py",
   "mimetype": "text/x-python",
   "name": "python",
   "nbconvert_exporter": "python",
   "pygments_lexer": "ipython3",
   "version": "3.11.7"
  }
 },
 "nbformat": 4,
 "nbformat_minor": 5
}
