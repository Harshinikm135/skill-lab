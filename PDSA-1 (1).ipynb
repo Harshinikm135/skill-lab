{
 "cells": [
  {
   "cell_type": "markdown",
   "id": "194b2172-ba10-405d-a15c-ec183e3bfd79",
   "metadata": {},
   "source": [
    "Arrays"
   ]
  },
  {
   "cell_type": "code",
   "execution_count": 1,
   "id": "36df0ba1-9a9c-4bd2-87b0-5485bbba0474",
   "metadata": {},
   "outputs": [
    {
     "name": "stdout",
     "output_type": "stream",
     "text": [
      "array('i', [3, 5, 7, 2, 3])\n",
      "<class 'array.array'>\n"
     ]
    }
   ],
   "source": [
    "#Initialize\n",
    "from array import array\n",
    "arr =array('i',[3,5,7,2,3])\n",
    "print(arr)\n",
    "print(type (arr))"
   ]
  },
  {
   "cell_type": "code",
   "execution_count": 2,
   "id": "69aaeb89-701e-4a99-9251-9cfd0ba9613e",
   "metadata": {},
   "outputs": [
    {
     "data": {
      "text/plain": [
       "7"
      ]
     },
     "execution_count": 2,
     "metadata": {},
     "output_type": "execute_result"
    }
   ],
   "source": [
    "arr[2] #acess\n"
   ]
  },
  {
   "cell_type": "code",
   "execution_count": 3,
   "id": "f275b68b-7857-49a8-8e7c-0af953628533",
   "metadata": {},
   "outputs": [
    {
     "name": "stdout",
     "output_type": "stream",
     "text": [
      "array('i', [3, 5, 9, 2, 3])\n"
     ]
    }
   ],
   "source": [
    "arr[2] =9#modify\n",
    "print(arr)"
   ]
  },
  {
   "cell_type": "code",
   "execution_count": 4,
   "id": "63f65c20-11e5-4f53-aafd-d59e85d20407",
   "metadata": {},
   "outputs": [],
   "source": [
    "arr.insert(3,757)"
   ]
  },
  {
   "cell_type": "code",
   "execution_count": 5,
   "id": "184366fe-6991-48aa-a945-94fb5d4a1f9c",
   "metadata": {},
   "outputs": [
    {
     "data": {
      "text/plain": [
       "array('i', [3, 5, 9, 757, 2, 3])"
      ]
     },
     "execution_count": 5,
     "metadata": {},
     "output_type": "execute_result"
    }
   ],
   "source": [
    "arr"
   ]
  },
  {
   "cell_type": "code",
   "execution_count": 6,
   "id": "57fa44bb-db7a-4a41-9067-4614f1d46411",
   "metadata": {},
   "outputs": [],
   "source": [
    "del (arr[3])"
   ]
  },
  {
   "cell_type": "code",
   "execution_count": 7,
   "id": "3664d389-1a8f-4a30-ae5d-8f18ce802f29",
   "metadata": {},
   "outputs": [
    {
     "data": {
      "text/plain": [
       "array('i', [3, 5, 9, 2, 3])"
      ]
     },
     "execution_count": 7,
     "metadata": {},
     "output_type": "execute_result"
    }
   ],
   "source": [
    "arr"
   ]
  },
  {
   "cell_type": "code",
   "execution_count": 8,
   "id": "c2e8aa1b-8264-42cd-bfce-b23e7aa181a4",
   "metadata": {},
   "outputs": [
    {
     "name": "stdout",
     "output_type": "stream",
     "text": [
      "3\n",
      "5\n",
      "9\n",
      "2\n",
      "3\n"
     ]
    }
   ],
   "source": [
    "#for i in array/list:\n",
    "for i in arr:\n",
    "    print(i)"
   ]
  },
  {
   "cell_type": "code",
   "execution_count": 9,
   "id": "d8f2b19f-ed80-45ab-a79f-afa1773f164a",
   "metadata": {},
   "outputs": [
    {
     "name": "stdout",
     "output_type": "stream",
     "text": [
      "5\n",
      "9\n"
     ]
    }
   ],
   "source": [
    "for i in arr :\n",
    "    if i>3:\n",
    "        print(i)"
   ]
  },
  {
   "cell_type": "code",
   "execution_count": 10,
   "id": "76b610ed-fd71-410b-82e0-494706a785cd",
   "metadata": {},
   "outputs": [
    {
     "data": {
      "text/plain": [
       "[2, 3, 3, 5, 9]"
      ]
     },
     "execution_count": 10,
     "metadata": {},
     "output_type": "execute_result"
    }
   ],
   "source": [
    "arr =sorted(arr) #sort\n",
    "arr"
   ]
  },
  {
   "cell_type": "code",
   "execution_count": 11,
   "id": "4d5f87c5-7303-4384-acb5-5eb6747d552d",
   "metadata": {},
   "outputs": [
    {
     "name": "stdout",
     "output_type": "stream",
     "text": [
      " true\n"
     ]
    }
   ],
   "source": [
    "i=9\n",
    "if i in arr:\n",
    "        print(\" true\")\n",
    "else:\n",
    "    print(\"false\")"
   ]
  },
  {
   "cell_type": "code",
   "execution_count": 12,
   "id": "a8ca96e1-fe77-4915-bca0-faf535e7e1c9",
   "metadata": {},
   "outputs": [],
   "source": [
    "def search(el,arr):\n",
    "    if el in arr:\n",
    "        return True\n",
    "    else:\n",
    "        return False"
   ]
  },
  {
   "cell_type": "code",
   "execution_count": 13,
   "id": "5738a989-c78c-4fab-9fbb-0cf8da46314f",
   "metadata": {},
   "outputs": [
    {
     "data": {
      "text/plain": [
       "True"
      ]
     },
     "execution_count": 13,
     "metadata": {},
     "output_type": "execute_result"
    }
   ],
   "source": [
    "ar =array('i',[7,13,12,90])\n",
    "search(12,ar)"
   ]
  },
  {
   "cell_type": "code",
   "execution_count": 14,
   "id": "75ec6248-58fc-44b6-a598-ec722641966c",
   "metadata": {},
   "outputs": [
    {
     "data": {
      "text/plain": [
       "False"
      ]
     },
     "execution_count": 14,
     "metadata": {},
     "output_type": "execute_result"
    }
   ],
   "source": [
    "ar =array('i',[7,13,12,90])\n",
    "search(45,ar)"
   ]
  },
  {
   "cell_type": "code",
   "execution_count": 15,
   "id": "98b4f459-ec8e-4e44-b5b8-4f9c6881471a",
   "metadata": {},
   "outputs": [],
   "source": [
    "def mult(n,arr):\n",
    "    for i in arr:\n",
    "        print(i*n)"
   ]
  },
  {
   "cell_type": "code",
   "execution_count": 16,
   "id": "bb842d3a-ffca-41ec-b4fa-61224589a57c",
   "metadata": {},
   "outputs": [
    {
     "name": "stdout",
     "output_type": "stream",
     "text": [
      "35\n",
      "65\n",
      "60\n",
      "450\n"
     ]
    }
   ],
   "source": [
    "mult(5,ar)"
   ]
  },
  {
   "cell_type": "code",
   "execution_count": 17,
   "id": "03298644-12d0-4478-9d46-a0210921f343",
   "metadata": {},
   "outputs": [],
   "source": [
    "def missing(n,arr):\n",
    "    act_sum = (n*(n+1))/2 #21\n",
    "    print(\"Actual sum is \",act_sum)\n",
    "    gn_sum = sum(arr) \n",
    "    print(\"sum of the given array\",gn_sum) #18\n",
    "    return (act_sum - gn_sum)\n",
    "    \n"
   ]
  },
  {
   "cell_type": "code",
   "execution_count": 18,
   "id": "80d25563-edb2-43dc-a784-c89043933ce8",
   "metadata": {},
   "outputs": [
    {
     "name": "stdout",
     "output_type": "stream",
     "text": [
      "Actual sum is  21.0\n",
      "sum of the given array 18\n"
     ]
    },
    {
     "data": {
      "text/plain": [
       "3.0"
      ]
     },
     "execution_count": 18,
     "metadata": {},
     "output_type": "execute_result"
    }
   ],
   "source": [
    "myarray = array('i', [1,2,4,5,6])\n",
    "missing(6,myarray)"
   ]
  },
  {
   "cell_type": "code",
   "execution_count": 19,
   "id": "6acada03-ec43-4af1-8908-3250f0d27f70",
   "metadata": {},
   "outputs": [],
   "source": [
    "from array import array\n",
    "def missing(n,arr):\n",
    "    act_sum = 24\n",
    "    print(\"actual sum is \",act_sum)\n",
    "    gn_sum = sum(arr)\n",
    "    print(\"sum of the given array\",gn_sum)\n",
    "    return(act_sum - gn_sum)\n",
    "    \n",
    "    "
   ]
  },
  {
   "cell_type": "code",
   "execution_count": 20,
   "id": "47542394-6a8a-4620-adab-0fa7abb28820",
   "metadata": {},
   "outputs": [
    {
     "name": "stdout",
     "output_type": "stream",
     "text": [
      "actual sum is  24\n",
      "sum of the given array 14\n"
     ]
    },
    {
     "data": {
      "text/plain": [
       "10"
      ]
     },
     "execution_count": 20,
     "metadata": {},
     "output_type": "execute_result"
    }
   ],
   "source": [
    "myarray = array('i',[12,2,0])\n",
    "missing(3,myarray)"
   ]
  },
  {
   "cell_type": "code",
   "execution_count": 28,
   "id": "707af79d-733d-42e9-99b3-a2309f90e918",
   "metadata": {},
   "outputs": [],
   "source": [
    "from array import array\n",
    "def sort(n,arr):\n",
    "            a=sorted(arr)\n",
    "            print(\"sorted of array\",a)"
   ]
  },
  {
   "cell_type": "code",
   "execution_count": 29,
   "id": "c4adeff0-0e82-47ab-9bc2-3494fdd7deb0",
   "metadata": {},
   "outputs": [
    {
     "name": "stdout",
     "output_type": "stream",
     "text": [
      "sorted of array [1, 1, 2, 2, 4]\n"
     ]
    }
   ],
   "source": [
    "myarray = array('i',[1,2,4,1,2])\n",
    "sort(3,myarray)\n"
   ]
  },
  {
   "cell_type": "code",
   "execution_count": null,
   "id": "bb7fdcae-9cd2-4d87-9a52-89c2d5c6ad78",
   "metadata": {},
   "outputs": [],
   "source": [
    "rev =0\n",
    "while n!=0:\n",
    "    rem = n%10\n",
    "    rev = rev*"
   ]
  },
  {
   "cell_type": "code",
   "execution_count": null,
   "id": "0179377d-cc08-48a5-a4f7-e7ab15b659a9",
   "metadata": {},
   "outputs": [],
   "source": []
  }
 ],
 "metadata": {
  "kernelspec": {
   "display_name": "Python 3 (ipykernel)",
   "language": "python",
   "name": "python3"
  },
  "language_info": {
   "codemirror_mode": {
    "name": "ipython",
    "version": 3
   },
   "file_extension": ".py",
   "mimetype": "text/x-python",
   "name": "python",
   "nbconvert_exporter": "python",
   "pygments_lexer": "ipython3",
   "version": "3.11.7"
  }
 },
 "nbformat": 4,
 "nbformat_minor": 5
}
