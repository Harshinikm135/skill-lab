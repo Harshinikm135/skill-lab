{
 "cells": [
  {
   "cell_type": "code",
   "execution_count": 1,
   "id": "67dffbe8-329d-4cad-8b10-27e738494847",
   "metadata": {},
   "outputs": [],
   "source": [
    "a=[1,2,3,4]\n"
   ]
  },
  {
   "cell_type": "code",
   "execution_count": 2,
   "id": "573b355d-4606-4d69-9aa5-810385ab02dc",
   "metadata": {},
   "outputs": [
    {
     "data": {
      "text/plain": [
       "4"
      ]
     },
     "execution_count": 2,
     "metadata": {},
     "output_type": "execute_result"
    }
   ],
   "source": [
    "a.pop()"
   ]
  },
  {
   "cell_type": "code",
   "execution_count": 3,
   "id": "036f02ee-d539-4ce9-98c1-7ea7250a7a1b",
   "metadata": {},
   "outputs": [],
   "source": [
    "a=[1,4,6,7,8,9]"
   ]
  },
  {
   "cell_type": "code",
   "execution_count": 4,
   "id": "1bba8f8a-4bb7-4b52-abcd-4bc4f82692fe",
   "metadata": {},
   "outputs": [
    {
     "data": {
      "text/plain": [
       "9"
      ]
     },
     "execution_count": 4,
     "metadata": {},
     "output_type": "execute_result"
    }
   ],
   "source": [
    "a.pop()\n"
   ]
  },
  {
   "cell_type": "code",
   "execution_count": 5,
   "id": "c31120b7-5e2e-4c4a-91c2-cfa548bffe45",
   "metadata": {},
   "outputs": [],
   "source": [
    "class stack:\n",
    "    def __init__(self):\n",
    "        self.stack = []"
   ]
  },
  {
   "cell_type": "code",
   "execution_count": 6,
   "id": "83c36211-1b7a-46c8-a8ae-94e4613fdf4a",
   "metadata": {},
   "outputs": [],
   "source": [
    "def is_empty(self):\n",
    "    return len(self.stack) == 0"
   ]
  },
  {
   "cell_type": "code",
   "execution_count": 7,
   "id": "e1fc2643-b3d5-44ef-b33a-42da9cd49d36",
   "metadata": {},
   "outputs": [],
   "source": [
    "class stack:\n",
    "    def __init__(self):\n",
    "        self.stack = []"
   ]
  },
  {
   "cell_type": "code",
   "execution_count": 8,
   "id": "c264426d-a7d7-4a42-ac91-aab926ce59d4",
   "metadata": {},
   "outputs": [],
   "source": [
    "def push(self,iteam):\n",
    "    self.stack.append(iteam) \n"
   ]
  },
  {
   "cell_type": "code",
   "execution_count": 9,
   "id": "798d4faf-d25d-44f7-b70c-fcd63ac48f70",
   "metadata": {},
   "outputs": [],
   "source": [
    "def pop(self):\n",
    "    if not self.is_empty():\n",
    "        return self.stack.pop()\n",
    "    else:\n",
    "        return \"stack is empty\""
   ]
  },
  {
   "cell_type": "code",
   "execution_count": 10,
   "id": "a4954aae-5921-4d20-b116-ea78b7fb936a",
   "metadata": {},
   "outputs": [],
   "source": [
    "def peek(self):\n",
    "    if not self.is_empty():\n",
    "        return self.stack.pop()\n",
    "    else:\n",
    "        return \"stack is empty\"\n",
    "    "
   ]
  },
  {
   "cell_type": "code",
   "execution_count": null,
   "id": "f2d6d338-6b29-4888-9f16-9a30b1534214",
   "metadata": {},
   "outputs": [],
   "source": []
  },
  {
   "cell_type": "code",
   "execution_count": 11,
   "id": "b7f71816-8399-439a-9deb-5e89dfed8ad6",
   "metadata": {},
   "outputs": [],
   "source": [
    "class stack:\n",
    "    def __init__(self):\n",
    "        self.stack = []\n",
    "    def is__empty(self):\n",
    "       return len(self.stack) == 0\n",
    "    def push(self,item):\n",
    "        self.stack.append(item)\n",
    "    def pop(self):\n",
    "        if not self.is__empty():\n",
    "            return self.stack.pop()\n",
    "        else:\n",
    "            return \"stack is empty\"\n",
    "    def peek(self):\n",
    "        if not self.is__empty():\n",
    "            return self.stack[-1]\n",
    "        else:\n",
    "            return \"stack is empty\"\n",
    "    def size(self):\n",
    "        return len(self.stack)\n",
    "    def display(self):\n",
    "        print(self.stack)\n",
    "        \n"
   ]
  },
  {
   "cell_type": "code",
   "execution_count": 12,
   "id": "5edb1272-b64d-433f-8201-76860c25978f",
   "metadata": {},
   "outputs": [
    {
     "ename": "IndentationError",
     "evalue": "unexpected indent (4016917140.py, line 3)",
     "output_type": "error",
     "traceback": [
      "\u001b[1;36m  Cell \u001b[1;32mIn[12], line 3\u001b[1;36m\u001b[0m\n\u001b[1;33m    s.push(20)\u001b[0m\n\u001b[1;37m    ^\u001b[0m\n\u001b[1;31mIndentationError\u001b[0m\u001b[1;31m:\u001b[0m unexpected indent\n"
     ]
    }
   ],
   "source": [
    "s=stack()\n",
    "s.push(10)\n",
    " s.push(20)\n",
    "s.push(30)\n",
    "s.display()\n"
   ]
  },
  {
   "cell_type": "code",
   "execution_count": null,
   "id": "93f0bda2-5e16-466d-ba55-99daee686ac7",
   "metadata": {},
   "outputs": [],
   "source": [
    "print(s.is__empty())"
   ]
  },
  {
   "cell_type": "code",
   "execution_count": null,
   "id": "6125072c-b243-413e-a7c1-e029983ab680",
   "metadata": {},
   "outputs": [],
   "source": [
    "print(s.pop())\n",
    "s.display()"
   ]
  },
  {
   "cell_type": "code",
   "execution_count": null,
   "id": "39b4e6e4-458d-4cc0-a681-e1999abf399b",
   "metadata": {},
   "outputs": [],
   "source": [
    "print(s.size())"
   ]
  },
  {
   "cell_type": "code",
   "execution_count": null,
   "id": "da700466-cb55-469d-b299-cecb9cfbfcc4",
   "metadata": {},
   "outputs": [],
   "source": [
    "print(s.peek())"
   ]
  },
  {
   "cell_type": "code",
   "execution_count": 22,
   "id": "843dce89-8e1e-43ed-aef5-b09fadaa12d3",
   "metadata": {},
   "outputs": [],
   "source": [
    "def reverse_string(s):\n",
    "    stack=[]\n",
    "    for char in s:\n",
    "        stack.append(char)\n",
    "        reversed_string=' '\n",
    "        while stack:\n",
    "            reversed_string += stack.pop()\n",
    "            return reversed_string\n",
    "            s=\"happy\"\n",
    "            reversed"
   ]
  },
  {
   "cell_type": "code",
   "execution_count": 23,
   "id": "f4b1934c-16fb-4e16-9095-e0d3218502c7",
   "metadata": {},
   "outputs": [],
   "source": [
    "a=\"happy\""
   ]
  },
  {
   "cell_type": "code",
   "execution_count": 24,
   "id": "6990433f-da8f-4601-b803-6414f6c7a18f",
   "metadata": {},
   "outputs": [
    {
     "data": {
      "text/plain": [
       "'h'"
      ]
     },
     "execution_count": 24,
     "metadata": {},
     "output_type": "execute_result"
    }
   ],
   "source": [
    "a[0]"
   ]
  },
  {
   "cell_type": "code",
   "execution_count": null,
   "id": "5273ea3f-f3ed-4b6d-9a93-174d571b9ffa",
   "metadata": {},
   "outputs": [],
   "source": [
    "print(a[0])"
   ]
  },
  {
   "cell_type": "code",
   "execution_count": null,
   "id": "d92ab065-bfac-4a6a-83a8-c078c156c4a2",
   "metadata": {},
   "outputs": [],
   "source": [
    "\n",
    "a=\"happy\"\n",
    "b=\"me\"\n"
   ]
  },
  {
   "cell_type": "code",
   "execution_count": null,
   "id": "d9748162-3555-4a81-8174-136fe4147f11",
   "metadata": {},
   "outputs": [],
   "source": [
    "a+b"
   ]
  },
  {
   "cell_type": "code",
   "execution_count": null,
   "id": "61ae0a81-ff19-4e10-96bc-516410c10802",
   "metadata": {},
   "outputs": [],
   "source": [
    "a=\"happy\"\n",
    "stack=[]\n",
    "for i in range(0,len(a)):\n",
    "    stack.append(a[i])\n",
    "    rev=\"\"\n",
    "while(len(stack)!=0):\n",
    "    el=stack.pop()\n",
    "    rev=rev+el"
   ]
  },
  {
   "cell_type": "code",
   "execution_count": null,
   "id": "3a40734b-84bc-486e-9559-8d44c99d5274",
   "metadata": {},
   "outputs": [],
   "source": []
  },
  {
   "cell_type": "code",
   "execution_count": null,
   "id": "4ebef094-7b34-4960-afe2-7c08bb54b8fa",
   "metadata": {},
   "outputs": [],
   "source": []
  }
 ],
 "metadata": {
  "kernelspec": {
   "display_name": "Python 3 (ipykernel)",
   "language": "python",
   "name": "python3"
  },
  "language_info": {
   "codemirror_mode": {
    "name": "ipython",
    "version": 3
   },
   "file_extension": ".py",
   "mimetype": "text/x-python",
   "name": "python",
   "nbconvert_exporter": "python",
   "pygments_lexer": "ipython3",
   "version": "3.11.7"
  }
 },
 "nbformat": 4,
 "nbformat_minor": 5
}
