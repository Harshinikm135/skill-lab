{
 "cells": [
  {
   "cell_type": "markdown",
   "id": "b556394c-5226-4def-a53e-78ae3bb3a78a",
   "metadata": {},
   "source": [
    "create a class called 'MyQueue' which can handle 1.Enqueue 2.Dequeue 3.Is empty 4.Display()\n"
   ]
  },
  {
   "cell_type": "code",
   "execution_count": 1,
   "id": "fd025d2b-3a4d-4e3f-887a-0fc2d09aa92e",
   "metadata": {},
   "outputs": [],
   "source": [
    "class Myqueue:\n",
    "    def __init__(self):\n",
    "        self.queue=[]\n",
    "    def enqueue(self,data):\n",
    "        self.queue.append(data)\n",
    "    def dequeue(self):\n",
    "        if self.queue:\n",
    "            self.queue.pop(0)\n",
    "        else:\n",
    "            print(\"queue is empty\")\n",
    "    def isempty(self):\n",
    "        return len(self.queue)==0\n",
    "    def display(self):\n",
    "        if self.queue:\n",
    "            return self.queue\n",
    "        else:\n",
    "            print('no queue to display')\n",
    "    def size(self):\n",
    "        return len(self.queue)\n",
    "        \n",
    "            \n",
    "        \n",
    "        "
   ]
  },
  {
   "cell_type": "code",
   "execution_count": 2,
   "id": "01f0175d-6ea7-4f64-91c7-2021c81b74ea",
   "metadata": {},
   "outputs": [
    {
     "data": {
      "text/plain": [
       "[90, 85, 60, 40]"
      ]
     },
     "execution_count": 2,
     "metadata": {},
     "output_type": "execute_result"
    }
   ],
   "source": [
    "j = Myqueue()\n",
    "j.enqueue(90)\n",
    "j.enqueue(85)\n",
    "j.enqueue(60)\n",
    "j.enqueue(40)\n",
    "j.display()"
   ]
  },
  {
   "cell_type": "code",
   "execution_count": 3,
   "id": "661327d3-1813-4765-ad66-f0a7e8459883",
   "metadata": {},
   "outputs": [
    {
     "data": {
      "text/plain": [
       "[85, 60, 40]"
      ]
     },
     "execution_count": 3,
     "metadata": {},
     "output_type": "execute_result"
    }
   ],
   "source": [
    "j.dequeue()\n",
    "j.display()\n",
    "\n"
   ]
  },
  {
   "cell_type": "code",
   "execution_count": 4,
   "id": "dff61313-f6ec-4bb5-8fd2-f08b5e424fa4",
   "metadata": {},
   "outputs": [
    {
     "data": {
      "text/plain": [
       "3"
      ]
     },
     "execution_count": 4,
     "metadata": {},
     "output_type": "execute_result"
    }
   ],
   "source": [
    "j.size()"
   ]
  },
  {
   "cell_type": "markdown",
   "id": "5df9845e-628f-46a2-a6aa-f509fbf43483",
   "metadata": {},
   "source": [
    "write a function that accepts an array arr of size 'length' as its argument you are reqired to\n"
   ]
  },
  {
   "cell_type": "code",
   "execution_count": 5,
   "id": "a95a4e0d-a828-4dd2-9e56-57c663f04ee1",
   "metadata": {},
   "outputs": [
    {
     "name": "stdout",
     "output_type": "stream",
     "text": [
      "[5, 8, 2]\n",
      "[7, 3, 6]\n",
      "sorted  even array: [8, 5, 2]\n",
      "8\n",
      "sorted odd array: [7, 6, 3]\n",
      "7\n"
     ]
    }
   ],
   "source": [
    "arr=[5,7,8,3,2,6]\n",
    "e = []\n",
    "o = []\n",
    "for i in range(len(arr)):\n",
    "    if i%2 == 0:\n",
    "        e.append(arr[i])\n",
    "    else:\n",
    "        o.append(arr[i])\n",
    "print(e)\n",
    "print(o)\n",
    "e.sort(reverse = True)\n",
    "print(\"sorted  even array:\",e)\n",
    "print(e[0])\n",
    "o.sort(reverse = True)\n",
    "print(\"sorted odd array:\",o)\n",
    "print(o[0])\n",
    "\n",
    "\n",
    "            \n"
   ]
  },
  {
   "cell_type": "code",
   "execution_count": 9,
   "id": "6e2a1857-9dd4-4b58-9458-11e768978a9c",
   "metadata": {},
   "outputs": [],
   "source": [
    "def sum_e_o(arr):\n",
    "    even = []\n",
    "    odd = []\n",
    "    for i in range(len(arr)):\n",
    "        if i%2 == 0:\n",
    "            even.append(arr[i])\n",
    "        else:\n",
    "            odd.append(arr[i])\n",
    "    even.sort(reverse=True)\n",
    "    odd.sort()\n",
    "    return e[1]+o[1]"
   ]
  },
  {
   "cell_type": "code",
   "execution_count": 10,
   "id": "c8a1a615-28f9-4341-8f54-3c8fe393eb30",
   "metadata": {},
   "outputs": [
    {
     "name": "stdout",
     "output_type": "stream",
     "text": [
      "11\n"
     ]
    }
   ],
   "source": [
    "print(sum_e_o(arr))"
   ]
  },
  {
   "cell_type": "code",
   "execution_count": null,
   "id": "84b01051-96e1-4051-a705-a77e964156db",
   "metadata": {},
   "outputs": [],
   "source": [
    "class circularQ:\n",
    "    def __init__(self,size):\n",
    "        self.size = size\n",
    "        self.front=self.rear=-1\n",
    "        self.queue=[None]*size\n",
    "    def enqueue(self,data):\n",
    "        "
   ]
  }
 ],
 "metadata": {
  "kernelspec": {
   "display_name": "Python 3 (ipykernel)",
   "language": "python",
   "name": "python3"
  },
  "language_info": {
   "codemirror_mode": {
    "name": "ipython",
    "version": 3
   },
   "file_extension": ".py",
   "mimetype": "text/x-python",
   "name": "python",
   "nbconvert_exporter": "python",
   "pygments_lexer": "ipython3",
   "version": "3.11.7"
  }
 },
 "nbformat": 4,
 "nbformat_minor": 5
}
