{
 "cells": [
  {
   "cell_type": "code",
   "execution_count": 5,
   "id": "39933db7-68c7-461d-9ceb-f648f79ef120",
   "metadata": {},
   "outputs": [],
   "source": [
    "class MyLL:\n",
    "    class mynodes:\n",
    "        def __init__(self,data):\n",
    "            self.data = data\n",
    "            self.next = None\n",
    "    def __init__(self):\n",
    "        self.head=None\n",
    "    def insertb(self,data):\n",
    "        new_node =MyLL.mynodes(data)\n",
    "        new_node.next = self.head\n",
    "        self.head = new_node\n",
    "    def inserted(self,data):\n",
    "        new_node=MyLL.mynodes(data)\n",
    "        if self.head == None:\n",
    "            self.head = new_node\n",
    "            return\n",
    "            current = self.head\n",
    "        while current.next:\n",
    "            current =current.next\n",
    "            current.next=new_node\n",
    "    def insertaft(self,data,prev_node):\n",
    "        new_node = MyLL.mynodes(data)\n",
    "        new_node.next = prev_node.next\n",
    "        prev_node.next = new_node\n",
    "    def print_LL(self):\n",
    "        current=self.head\n",
    "        while current:\n",
    "            print(current.data, end='-->')\n",
    "            current = current.next\n",
    "    def search(self,val):\n",
    "        current=self.head\n",
    "        while current:\n",
    "            if current.data ==val:\n",
    "                return True\n",
    "                current = current.next\n",
    "            return False\n",
    "    def deletefirst(self):\n",
    "        if self.head == None:\n",
    "            return\n",
    "            current=self.head\n",
    "            while current.next.next:\n",
    "                current=current.next\n",
    "                current.next=None\n",
    "                print(current)\n",
    "    def del_by_val(self,x):\n",
    "        if self.head.data == x:\n",
    "            self.head = self.head.next\n",
    "            current = self.head\n",
    "        while current.next:\n",
    "            if current.next.data!=x:\n",
    "                current = current.next\n",
    "            else:\n",
    "                break\n",
    "        if current.next:\n",
    "                current.next = current.next.next\n",
    "        else:\n",
    "            return 'not found'\n",
    "    def reverse(self):\n",
    "        prev = None\n",
    "        current = self.head\n",
    "        while current:\n",
    "            next_node = current.next\n",
    "            current.next = prev"
   ]
  },
  {
   "cell_type": "code",
   "execution_count": 2,
   "id": "c276d611-c4f2-4d11-9b56-51692765689c",
   "metadata": {},
   "outputs": [
    {
     "name": "stdout",
     "output_type": "stream",
     "text": [
      "90-->40-->55-->"
     ]
    }
   ],
   "source": [
    "j =MyLL()\n",
    "j.insertb(55)\n",
    "j.insertb(40)\n",
    "j.insertb(90)\n",
    "j.print_LL()"
   ]
  },
  {
   "cell_type": "code",
   "execution_count": 6,
   "id": "1c893a1a-5c9d-4574-a580-1597a4985044",
   "metadata": {},
   "outputs": [
    {
     "data": {
      "text/plain": [
       "False"
      ]
     },
     "execution_count": 6,
     "metadata": {},
     "output_type": "execute_result"
    }
   ],
   "source": [
    "j.search(40)"
   ]
  },
  {
   "cell_type": "code",
   "execution_count": 7,
   "id": "1167563e-5e62-48ed-8bb3-853232b099e6",
   "metadata": {},
   "outputs": [
    {
     "name": "stdout",
     "output_type": "stream",
     "text": [
      "40-->55-->"
     ]
    }
   ],
   "source": [
    "j.del_by_val(90)\n",
    "j.print_LL()"
   ]
  },
  {
   "cell_type": "code",
   "execution_count": 3,
   "id": "b39be630-8ed7-48cd-be40-e1f5aec07e7d",
   "metadata": {},
   "outputs": [],
   "source": [
    "def move_hyphens_to_front(str):\n",
    "    hyphens = \" \"\n",
    "    others = \" \"\n",
    "    for char in str:\n",
    "        if char =='_':\n",
    "            hyphens=hyphens+char\n",
    "        else:\n",
    "            others=others+char\n",
    "    return hyphens+others\n",
    "        "
   ]
  },
  {
   "cell_type": "code",
   "execution_count": 4,
   "id": "3e49b753-2309-4b5b-b3d5-f405ec4b3e2b",
   "metadata": {},
   "outputs": [
    {
     "name": "stdout",
     "output_type": "stream",
     "text": [
      "  hello-hi-sir\n"
     ]
    }
   ],
   "source": [
    "input_str = \"hello-hi-sir\"\n",
    "output_str = move_hyphens_to_front(input_str)\n",
    "print(output_str)"
   ]
  },
  {
   "cell_type": "code",
   "execution_count": null,
   "id": "d05cc507-13c2-4469-bb9c-ec2e05d7b218",
   "metadata": {},
   "outputs": [],
   "source": []
  }
 ],
 "metadata": {
  "kernelspec": {
   "display_name": "Python 3 (ipykernel)",
   "language": "python",
   "name": "python3"
  },
  "language_info": {
   "codemirror_mode": {
    "name": "ipython",
    "version": 3
   },
   "file_extension": ".py",
   "mimetype": "text/x-python",
   "name": "python",
   "nbconvert_exporter": "python",
   "pygments_lexer": "ipython3",
   "version": "3.11.7"
  }
 },
 "nbformat": 4,
 "nbformat_minor": 5
}
