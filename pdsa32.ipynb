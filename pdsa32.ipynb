{
 "cells": [
  {
   "cell_type": "code",
   "execution_count": 1,
   "id": "32e4ca46-28a3-4c05-ac98-a9c44f5bc91b",
   "metadata": {},
   "outputs": [],
   "source": [
    "c"
   ]
  },
  {
   "cell_type": "code",
   "execution_count": 1,
   "id": "b68903cb-62b9-4f8e-9311-704557af28b7",
   "metadata": {},
   "outputs": [],
   "source": [
    "class MyLL:\n",
    "    class mynodes:\n",
    "        def __init__(self,data):\n",
    "            self.data = data\n",
    "            self.next = None\n",
    "    def __init__(self):\n",
    "        self.head=None\n",
    "    def insertb(self,data):\n",
    "        new_node =MyLL.mynodes(data)\n",
    "        new_node.next = self.head\n",
    "        self.head = new_node\n",
    "    def inserted(self,data):\n",
    "        new_node=MyLL.mynodes(data)\n",
    "        if self.head == None:\n",
    "            self.head = new_node\n",
    "            return\n",
    "            current = self.head\n",
    "        while current.next:\n",
    "            current =current.next\n",
    "            current.next=new_node\n",
    "    def insertaft(self,data,prev_node):\n",
    "        new_node = MyLL.mynodes(data)\n",
    "        new_node.next = prev_node.next\n",
    "        prev_node.next = new_node\n",
    "    def print_LL(self):\n",
    "        current=self.head\n",
    "        while current:\n",
    "            print(current.data, end='-->')\n",
    "            current = current.next\n",
    "    def search(self,val):\n",
    "        current=self.head\n",
    "        while current:\n",
    "            if current.data ==val:\n",
    "                return True\n",
    "                current = current.next\n",
    "            return False\n",
    "        \n",
    "            \n",
    "            \n",
    "            \n",
    "                        \n",
    "            \n",
    "                            "
   ]
  },
  {
   "cell_type": "code",
   "execution_count": 1,
   "id": "731fb51d-8784-4eda-be22-f2ec52dfe651",
   "metadata": {},
   "outputs": [],
   "source": [
    "class MyLL:\n",
    "    class mynodes:\n",
    "        def __init__(self,data):\n",
    "            self.data = data\n",
    "            self.next = None\n",
    "    def __init__(self):\n",
    "        self.head=None\n",
    "    def insertb(self,data):\n",
    "        new_node =MyLL.mynodes(data)\n",
    "        new_node.next = self.head\n",
    "        self.head = new_node\n",
    "    def inserted(self,data):\n",
    "        new_node=MyLL.mynodes(data)\n",
    "        if self.head == None:\n",
    "            self.head = new_node\n",
    "            return\n",
    "            current = self.head\n",
    "        while current.next:\n",
    "            current =current.next\n",
    "            current.next=new_node\n",
    "    def insertaft(self,data,prev_node):\n",
    "        new_node = MyLL.mynodes(data)\n",
    "        new_node.next = prev_node.next\n",
    "        prev_node.next = new_node\n",
    "    def print_LL(self):\n",
    "        current=self.head\n",
    "        while current:\n",
    "            print(current.data, end='-->')\n",
    "            current = current.next\n",
    "    def search(self,val):\n",
    "        current=self.head\n",
    "        while current:\n",
    "            if current.data ==val:\n",
    "                return True\n",
    "                current = current.next\n",
    "            return False\n",
    "        \n",
    "            \n",
    "            \n",
    "            \n",
    "                        \n",
    "            \n",
    "                            "
   ]
  },
  {
   "cell_type": "code",
   "execution_count": 1,
   "id": "9873e38d-2953-4d27-8925-64a4c0d6ada1",
   "metadata": {},
   "outputs": [],
   "source": [
    "class MyLL:\n",
    "    class mynodes:\n",
    "        def __init__(self,data):\n",
    "            self.data = data\n",
    "            self.next = None\n",
    "    def __init__(self):\n",
    "        self.head=None\n",
    "    def insertb(self,data):\n",
    "        new_node =MyLL.mynodes(data)\n",
    "        new_node.next = self.head\n",
    "        self.head = new_node\n",
    "    def inserted(self,data):\n",
    "        new_node=MyLL.mynodes(data)\n",
    "        if self.head == None:\n",
    "            self.head = new_node\n",
    "            return\n",
    "            current = self.head\n",
    "        while current.next:\n",
    "            current =current.next\n",
    "            current.next=new_node\n",
    "    def insertaft(self,data,prev_node):\n",
    "        new_node = MyLL.mynodes(data)\n",
    "        new_node.next = prev_node.next\n",
    "        prev_node.next = new_node\n",
    "    def print_LL(self):\n",
    "        current=self.head\n",
    "        while current:\n",
    "            print(current.data, end='-->')\n",
    "            current = current.next\n",
    "    def search(self,val):\n",
    "        current=self.head\n",
    "        while current:\n",
    "            if current.data ==val:\n",
    "                return True\n",
    "                current = current.next\n",
    "            return False\n",
    "        \n",
    "            \n",
    "            \n",
    "            \n",
    "                        \n",
    "            \n",
    "                            "
   ]
  },
  {
   "cell_type": "code",
   "execution_count": 2,
   "id": "987dfd7d-b568-41f3-b60a-59d50e07bcf1",
   "metadata": {},
   "outputs": [
    {
     "name": "stdout",
     "output_type": "stream",
     "text": [
      "90-->40-->55-->"
     ]
    }
   ],
   "source": [
    "j =MyLL()\n",
    "j.insertb(55)\n",
    "j.insertb(40)\n",
    "j.insertb(90)\n",
    "j.print_LL()\n"
   ]
  },
  {
   "cell_type": "code",
   "execution_count": 1,
   "id": "e821baf8-5fba-4431-9d3d-72a3c31076df",
   "metadata": {},
   "outputs": [
    {
     "ename": "NameError",
     "evalue": "name 'j' is not defined",
     "output_type": "error",
     "traceback": [
      "\u001b[1;31m---------------------------------------------------------------------------\u001b[0m",
      "\u001b[1;31mNameError\u001b[0m                                 Traceback (most recent call last)",
      "Cell \u001b[1;32mIn[1], line 1\u001b[0m\n\u001b[1;32m----> 1\u001b[0m j\u001b[38;5;241m.\u001b[39msearch(\u001b[38;5;241m5\u001b[39m)\n",
      "\u001b[1;31mNameError\u001b[0m: name 'j' is not defined"
     ]
    }
   ],
   "source": [
    "j.search(5)"
   ]
  },
  {
   "cell_type": "code",
   "execution_count": null,
   "id": "d0ad6ecc-5534-4573-b72c-e695f52d50dd",
   "metadata": {},
   "outputs": [],
   "source": []
  }
 ],
 "metadata": {
  "kernelspec": {
   "display_name": "Python 3 (ipykernel)",
   "language": "python",
   "name": "python3"
  },
  "language_info": {
   "codemirror_mode": {
    "name": "ipython",
    "version": 3
   },
   "file_extension": ".py",
   "mimetype": "text/x-python",
   "name": "python",
   "nbconvert_exporter": "python",
   "pygments_lexer": "ipython3",
   "version": "3.11.7"
  }
 },
 "nbformat": 4,
 "nbformat_minor": 5
}
